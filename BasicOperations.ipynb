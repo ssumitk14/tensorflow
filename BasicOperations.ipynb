{
 "cells": [
  {
   "cell_type": "code",
   "execution_count": 1,
   "metadata": {},
   "outputs": [
    {
     "name": "stdout",
     "output_type": "stream",
     "text": [
      "2.10.0\n"
     ]
    }
   ],
   "source": [
    "import tensorflow as tf\n",
    "print(tf.__version__)"
   ]
  },
  {
   "cell_type": "markdown",
   "metadata": {},
   "source": [
    "## 🛠 Exercises\n",
    "\n",
    "1. Create a vector, scalar, matrix and tensor with values of your choosing using `tf.constant()`.\n",
    "2. Find the shape, rank and size of the tensors you created in 1.\n",
    "3. Create two tensors containing random values between 0 and 1 with shape `[5, 300]`.\n",
    "4. Multiply the two tensors you created in 3 using matrix multiplication.\n",
    "5. Multiply the two tensors you created in 3 using dot product.\n",
    "6. Create a tensor with random values between 0 and 1 with shape `[224, 224, 3]`.\n",
    "7. Find the min and max values of the tensor you created in 6.\n",
    "8. Created a tensor with random values of shape `[1, 224, 224, 3]` then squeeze it to change the shape to `[224, 224, 3]`.\n",
    "9. Create a tensor with shape `[10]` using your own choice of values, then find the index which has the maximum value.\n",
    "10. One-hot encode the tensor you created in 9."
   ]
  },
  {
   "cell_type": "markdown",
   "metadata": {},
   "source": [
    "### 1. Create a vector, scalar, matrix and tensor with values of your choosing using `tf.constant()`."
   ]
  },
  {
   "cell_type": "code",
   "execution_count": 2,
   "metadata": {},
   "outputs": [
    {
     "name": "stdout",
     "output_type": "stream",
     "text": [
      "<class 'tensorflow.python.framework.ops.EagerTensor'>\n"
     ]
    },
    {
     "data": {
      "text/plain": [
       "<tf.Tensor: shape=(2,), dtype=int32, numpy=array([ 4, 10])>"
      ]
     },
     "execution_count": 2,
     "metadata": {},
     "output_type": "execute_result"
    }
   ],
   "source": [
    "vector = tf.constant([4, 10])\n",
    "print(type(vector))\n",
    "vector"
   ]
  },
  {
   "cell_type": "code",
   "execution_count": 3,
   "metadata": {},
   "outputs": [
    {
     "data": {
      "text/plain": [
       "<tf.Tensor: shape=(), dtype=int32, numpy=4>"
      ]
     },
     "execution_count": 3,
     "metadata": {},
     "output_type": "execute_result"
    }
   ],
   "source": [
    "scalar = tf.constant(4)\n",
    "scalar"
   ]
  },
  {
   "cell_type": "code",
   "execution_count": 4,
   "metadata": {},
   "outputs": [
    {
     "name": "stdout",
     "output_type": "stream",
     "text": [
      "matrix Dimension:  2\n",
      "matrix Shape:  (3, 2)\n"
     ]
    },
    {
     "data": {
      "text/plain": [
       "<tf.Tensor: shape=(3, 2), dtype=int32, numpy=\n",
       "array([[10, 20],\n",
       "       [ 4,  7],\n",
       "       [ 5,  8]])>"
      ]
     },
     "execution_count": 4,
     "metadata": {},
     "output_type": "execute_result"
    }
   ],
   "source": [
    "matrix = tf.constant([[10, 20],\n",
    "                      [4,7],\n",
    "                      [5,8]])\n",
    "print(\"matrix Dimension: \",matrix.ndim)\n",
    "print(\"matrix Shape: \",matrix.shape)\n",
    "matrix"
   ]
  },
  {
   "cell_type": "code",
   "execution_count": 5,
   "metadata": {},
   "outputs": [
    {
     "name": "stdout",
     "output_type": "stream",
     "text": [
      "Tensor Dimension:  3\n",
      "Tensor Shape:  (3, 2, 3)\n"
     ]
    },
    {
     "data": {
      "text/plain": [
       "<tf.Tensor: shape=(3, 2, 3), dtype=int32, numpy=\n",
       "array([[[ 1,  2,  3],\n",
       "        [ 4,  5,  6]],\n",
       "\n",
       "       [[ 7,  8,  9],\n",
       "        [10, 11, 12]],\n",
       "\n",
       "       [[13, 14, 15],\n",
       "        [16, 17, 18]]])>"
      ]
     },
     "execution_count": 5,
     "metadata": {},
     "output_type": "execute_result"
    }
   ],
   "source": [
    "tensor = tf.constant([[[1, 2, 3],\n",
    "                       [4, 5, 6]],\n",
    "                      [[7, 8, 9],\n",
    "                       [10, 11, 12]],\n",
    "                      [[13, 14, 15],\n",
    "                       [16, 17, 18]]])\n",
    "print(\"Tensor Dimension: \",tensor.ndim)\n",
    "print(\"Tensor Shape: \",tensor.shape)\n",
    "\n",
    "tensor"
   ]
  },
  {
   "cell_type": "markdown",
   "metadata": {},
   "source": [
    "### 2. Find the shape, rank and size of the tensors you created in 1."
   ]
  },
  {
   "cell_type": "code",
   "execution_count": 6,
   "metadata": {},
   "outputs": [
    {
     "name": "stdout",
     "output_type": "stream",
     "text": [
      "vector Shape:  (2,)\n",
      "vector Dimension:  1\n",
      "vector Size:  tf.Tensor(2, shape=(), dtype=int32)\n",
      "------------------------------------------------------------------------------------------------------------------------\n",
      "scalar Shape:  ()\n",
      "scalar Dimension:  0\n",
      "scalar Size:  tf.Tensor(1, shape=(), dtype=int32)\n",
      "------------------------------------------------------------------------------------------------------------------------\n",
      "matrix Shape:  (3, 2)\n",
      "matrix Dimension:  2\n",
      "matrix Size:  tf.Tensor(6, shape=(), dtype=int32)\n",
      "------------------------------------------------------------------------------------------------------------------------\n",
      "tensor Shape:  (3, 2, 3)\n",
      "tensor Dimension:  3\n",
      "tensor Size:  tf.Tensor(18, shape=(), dtype=int32)\n"
     ]
    }
   ],
   "source": [
    "print(\"vector Shape: \",vector.shape)\n",
    "print(\"vector Dimension: \",vector.ndim)\n",
    "print(\"vector Size: \",tf.size(vector))\n",
    "\n",
    "print(\"-\"*120)\n",
    "print(\"scalar Shape: \",scalar.shape)\n",
    "print(\"scalar Dimension: \",scalar.ndim)\n",
    "print(\"scalar Size: \",tf.size(scalar))\n",
    "\n",
    "print(\"-\"*120)\n",
    "\n",
    "\n",
    "print(\"matrix Shape: \",matrix.shape)\n",
    "print(\"matrix Dimension: \",matrix.ndim)\n",
    "print(\"matrix Size: \",tf.size(matrix))\n",
    "print(\"-\"*120)\n",
    "\n",
    "print(\"tensor Shape: \",tensor.shape)\n",
    "print(\"tensor Dimension: \",tensor.ndim)\n",
    "print(\"tensor Size: \",tf.size(tensor))"
   ]
  },
  {
   "cell_type": "markdown",
   "metadata": {},
   "source": [
    "### 3. Create two tensors containing random values between 0 and 1 with shape `[5, 300]`.\n"
   ]
  },
  {
   "cell_type": "code",
   "execution_count": 7,
   "metadata": {},
   "outputs": [],
   "source": [
    "random1 = tf.random.Generator.from_seed(42)\n",
    "random1 = random1.uniform(shape=(5,300))"
   ]
  },
  {
   "cell_type": "code",
   "execution_count": 8,
   "metadata": {},
   "outputs": [
    {
     "data": {
      "text/plain": [
       "<tf.Tensor: shape=(), dtype=float32, numpy=0.99872065>"
      ]
     },
     "execution_count": 8,
     "metadata": {},
     "output_type": "execute_result"
    }
   ],
   "source": [
    "tf.math.reduce_max(random1)"
   ]
  },
  {
   "cell_type": "code",
   "execution_count": 9,
   "metadata": {},
   "outputs": [
    {
     "data": {
      "text/plain": [
       "<tf.Tensor: shape=(), dtype=float32, numpy=0.0003619194>"
      ]
     },
     "execution_count": 9,
     "metadata": {},
     "output_type": "execute_result"
    }
   ],
   "source": [
    "tf.math.reduce_min(random1)"
   ]
  },
  {
   "cell_type": "code",
   "execution_count": 10,
   "metadata": {},
   "outputs": [],
   "source": [
    "random2 = tf.random.Generator.from_seed(45)\n",
    "random2 = random2.uniform(shape=(5,300))"
   ]
  },
  {
   "cell_type": "markdown",
   "metadata": {},
   "source": [
    "### 4. Multiply the two tensors you created in 3 using matrix multiplication.\n"
   ]
  },
  {
   "cell_type": "code",
   "execution_count": 11,
   "metadata": {},
   "outputs": [],
   "source": [
    "# Method - 1\n",
    "prod = tf.matmul(random1, random2, transpose_a=True)"
   ]
  },
  {
   "cell_type": "code",
   "execution_count": 12,
   "metadata": {},
   "outputs": [
    {
     "data": {
      "text/plain": [
       "<tf.Tensor: shape=(300, 300), dtype=float32, numpy=\n",
       "array([[1.7799168 , 1.7776245 , 1.9646808 , ..., 2.219033  , 1.3694499 ,\n",
       "        1.1903923 ],\n",
       "       [1.2603954 , 1.7817576 , 1.9220937 , ..., 1.7505955 , 1.4332385 ,\n",
       "        0.9630243 ],\n",
       "       [0.91638625, 0.83087593, 1.255487  , ..., 0.9712593 , 0.64660096,\n",
       "        0.8157369 ],\n",
       "       ...,\n",
       "       [0.93565613, 0.7607054 , 0.7439692 , ..., 0.9534668 , 0.46746138,\n",
       "        0.71517247],\n",
       "       [1.695093  , 1.5236593 , 1.8659173 , ..., 2.0326788 , 1.2023041 ,\n",
       "        1.1116064 ],\n",
       "       [1.3886744 , 1.178704  , 1.3936479 , ..., 1.6372824 , 0.8279296 ,\n",
       "        1.0887885 ]], dtype=float32)>"
      ]
     },
     "execution_count": 12,
     "metadata": {},
     "output_type": "execute_result"
    }
   ],
   "source": [
    "prod"
   ]
  },
  {
   "cell_type": "code",
   "execution_count": 13,
   "metadata": {},
   "outputs": [
    {
     "data": {
      "text/plain": [
       "<tf.Tensor: shape=(5, 5), dtype=float32, numpy=\n",
       "array([[76.614876, 73.67309 , 74.501434, 76.56241 , 76.689545],\n",
       "       [68.79084 , 69.50687 , 71.91168 , 71.550735, 74.64726 ],\n",
       "       [74.10363 , 72.27151 , 77.25077 , 73.50989 , 73.69415 ],\n",
       "       [73.328896, 73.3215  , 73.80848 , 74.68616 , 76.37677 ],\n",
       "       [72.147125, 72.533295, 72.413376, 73.97733 , 74.75777 ]],\n",
       "      dtype=float32)>"
      ]
     },
     "execution_count": 13,
     "metadata": {},
     "output_type": "execute_result"
    }
   ],
   "source": [
    "# Method -2\n",
    "random1_reshaped = tf.reshape(random1, shape=(random1.shape[1], random1.shape[0]))\n",
    "random2 @ random1_reshaped"
   ]
  },
  {
   "cell_type": "markdown",
   "metadata": {},
   "source": [
    "### 5. Multiply the two tensors you created in 3 using dot product.\n"
   ]
  },
  {
   "cell_type": "code",
   "execution_count": 17,
   "metadata": {},
   "outputs": [
    {
     "data": {
      "text/plain": [
       "<tf.Tensor: shape=(300, 300), dtype=float32, numpy=\n",
       "array([[1.2134517 , 1.5932388 , 1.7245263 , ..., 1.8316574 , 1.2614535 ,\n",
       "        0.9618634 ],\n",
       "       [1.460104  , 1.7780542 , 2.2010393 , ..., 2.1343417 , 1.5242041 ,\n",
       "        1.016547  ],\n",
       "       [1.7459371 , 1.7224977 , 2.129097  , ..., 2.1066253 , 1.292932  ,\n",
       "        1.4329472 ],\n",
       "       ...,\n",
       "       [0.6234001 , 1.3293637 , 1.7475382 , ..., 1.4068817 , 1.2840532 ,\n",
       "        0.49095592],\n",
       "       [1.534241  , 2.1432726 , 2.3019857 , ..., 2.2218306 , 1.7763214 ,\n",
       "        1.0321026 ],\n",
       "       [0.8402395 , 0.9160868 , 1.6085006 , ..., 1.6036739 , 0.95527184,\n",
       "        0.5869971 ]], dtype=float32)>"
      ]
     },
     "execution_count": 17,
     "metadata": {},
     "output_type": "execute_result"
    }
   ],
   "source": [
    "dotProduct = tf.tensordot(random1_reshaped, random2, axes=1)\n",
    "dotProduct"
   ]
  },
  {
   "cell_type": "code",
   "execution_count": null,
   "metadata": {},
   "outputs": [],
   "source": []
  },
  {
   "cell_type": "markdown",
   "metadata": {},
   "source": [
    "### 6. Create a tensor with random values between 0 and 1 with shape `[224, 224, 3]`.\n"
   ]
  },
  {
   "cell_type": "code",
   "execution_count": 19,
   "metadata": {},
   "outputs": [
    {
     "data": {
      "text/plain": [
       "<tf.Tensor: shape=(224, 224, 3), dtype=float32, numpy=\n",
       "array([[[0.7493447 , 0.73561966, 0.45230794],\n",
       "        [0.49039817, 0.1889317 , 0.52027524],\n",
       "        [0.8736881 , 0.46921718, 0.63932586],\n",
       "        ...,\n",
       "        [0.8035464 , 0.8265822 , 0.84540355],\n",
       "        [0.16108847, 0.48667014, 0.6170937 ],\n",
       "        [0.22355545, 0.93454087, 0.5319209 ]],\n",
       "\n",
       "       [[0.7508148 , 0.46019256, 0.14229465],\n",
       "        [0.10500956, 0.72874916, 0.89662087],\n",
       "        [0.85220826, 0.76973283, 0.11408448],\n",
       "        ...,\n",
       "        [0.38387823, 0.72712064, 0.7561674 ],\n",
       "        [0.70352066, 0.22680473, 0.24423313],\n",
       "        [0.39240444, 0.32533252, 0.39407527]],\n",
       "\n",
       "       [[0.74291146, 0.54543686, 0.32094967],\n",
       "        [0.6671035 , 0.8900143 , 0.64271927],\n",
       "        [0.5317905 , 0.21345353, 0.71189904],\n",
       "        ...,\n",
       "        [0.53968227, 0.7233304 , 0.7900686 ],\n",
       "        [0.99334645, 0.857829  , 0.67977047],\n",
       "        [0.8087704 , 0.06597769, 0.62171316]],\n",
       "\n",
       "       ...,\n",
       "\n",
       "       [[0.84861326, 0.6271888 , 0.7023717 ],\n",
       "        [0.46894228, 0.4787085 , 0.1912539 ],\n",
       "        [0.39595473, 0.5948347 , 0.6859689 ],\n",
       "        ...,\n",
       "        [0.55004704, 0.81996536, 0.6626886 ],\n",
       "        [0.30092347, 0.3980503 , 0.17080736],\n",
       "        [0.9393351 , 0.3430456 , 0.15847623]],\n",
       "\n",
       "       [[0.07707131, 0.57546544, 0.841964  ],\n",
       "        [0.4417436 , 0.88804233, 0.8017428 ],\n",
       "        [0.6850492 , 0.70381224, 0.38806987],\n",
       "        ...,\n",
       "        [0.01135123, 0.46678603, 0.1724801 ],\n",
       "        [0.6351286 , 0.471022  , 0.22208214],\n",
       "        [0.5487895 , 0.9890213 , 0.12894046]],\n",
       "\n",
       "       [[0.712723  , 0.740348  , 0.8293475 ],\n",
       "        [0.15965354, 0.2230674 , 0.02333987],\n",
       "        [0.7165916 , 0.8322334 , 0.33391452],\n",
       "        ...,\n",
       "        [0.8585105 , 0.13414657, 0.3103006 ],\n",
       "        [0.74841535, 0.5148909 , 0.25076163],\n",
       "        [0.5981357 , 0.20435822, 0.66445065]]], dtype=float32)>"
      ]
     },
     "execution_count": 19,
     "metadata": {},
     "output_type": "execute_result"
    }
   ],
   "source": [
    "random3 = tf.random.Generator.from_seed(42)\n",
    "random3 = random3.uniform(shape=(224,224,3))\n",
    "random3"
   ]
  },
  {
   "cell_type": "markdown",
   "metadata": {},
   "source": [
    "### 7. Find the min and max values of the tensor you created in 6.\n"
   ]
  },
  {
   "cell_type": "code",
   "execution_count": 20,
   "metadata": {},
   "outputs": [
    {
     "data": {
      "text/plain": [
       "(<tf.Tensor: shape=(), dtype=float32, numpy=4.053116e-06>,\n",
       " <tf.Tensor: shape=(), dtype=float32, numpy=0.99998736>)"
      ]
     },
     "execution_count": 20,
     "metadata": {},
     "output_type": "execute_result"
    }
   ],
   "source": [
    "lowest = tf.math.reduce_min(random3)\n",
    "highest = tf.math.reduce_max(random3)\n",
    "\n",
    "lowest, highest"
   ]
  },
  {
   "cell_type": "markdown",
   "metadata": {},
   "source": [
    "### 8. Created a tensor with random values of shape `[1, 224, 224, 3]` then squeeze it to change the shape to `[224, 224, 3]`.\n"
   ]
  },
  {
   "cell_type": "code",
   "execution_count": 21,
   "metadata": {},
   "outputs": [
    {
     "data": {
      "text/plain": [
       "TensorShape([1, 224, 224, 3])"
      ]
     },
     "execution_count": 21,
     "metadata": {},
     "output_type": "execute_result"
    }
   ],
   "source": [
    "random4 = tf.random.Generator.from_seed(50)\n",
    "random4 = random4.uniform(shape=(1,224,224,3))\n",
    "random4.shape"
   ]
  },
  {
   "cell_type": "code",
   "execution_count": 22,
   "metadata": {},
   "outputs": [
    {
     "data": {
      "text/plain": [
       "TensorShape([224, 224, 3])"
      ]
     },
     "execution_count": 22,
     "metadata": {},
     "output_type": "execute_result"
    }
   ],
   "source": [
    "random4_squeezed = tf.squeeze(random4)\n",
    "random4_squeezed.shape"
   ]
  },
  {
   "cell_type": "markdown",
   "metadata": {},
   "source": [
    "### 9. Create a tensor with shape `[10]` using your own choice of values, then find the index which has the maximum value.\n"
   ]
  },
  {
   "cell_type": "code",
   "execution_count": 25,
   "metadata": {},
   "outputs": [
    {
     "data": {
      "text/plain": [
       "<tf.Tensor: shape=(), dtype=int64, numpy=2>"
      ]
     },
     "execution_count": 25,
     "metadata": {},
     "output_type": "execute_result"
    }
   ],
   "source": [
    "lst = [4,5,8,7,4,6,4,1,2,4]\n",
    "t5 = tf.constant(lst)\n",
    "\n",
    "tf.math.argmax(t5)"
   ]
  },
  {
   "cell_type": "markdown",
   "metadata": {},
   "source": [
    "### 10. One-hot encode the tensor you created in 9."
   ]
  },
  {
   "cell_type": "code",
   "execution_count": 30,
   "metadata": {},
   "outputs": [
    {
     "data": {
      "text/plain": [
       "<tf.Tensor: shape=(10, 6), dtype=float32, numpy=\n",
       "array([[0., 0., 0., 0., 1., 0.],\n",
       "       [0., 0., 0., 0., 0., 1.],\n",
       "       [0., 0., 0., 0., 0., 0.],\n",
       "       [0., 0., 0., 0., 0., 0.],\n",
       "       [0., 0., 0., 0., 1., 0.],\n",
       "       [0., 0., 0., 0., 0., 0.],\n",
       "       [0., 0., 0., 0., 1., 0.],\n",
       "       [0., 1., 0., 0., 0., 0.],\n",
       "       [0., 0., 1., 0., 0., 0.],\n",
       "       [0., 0., 0., 0., 1., 0.]], dtype=float32)>"
      ]
     },
     "execution_count": 30,
     "metadata": {},
     "output_type": "execute_result"
    }
   ],
   "source": [
    "tf.one_hot(t5, depth=len(set(lst))-1)"
   ]
  },
  {
   "cell_type": "code",
   "execution_count": null,
   "metadata": {},
   "outputs": [],
   "source": []
  }
 ],
 "metadata": {
  "kernelspec": {
   "display_name": "practiceTensorflow",
   "language": "python",
   "name": "practicetensorflow"
  },
  "language_info": {
   "codemirror_mode": {
    "name": "ipython",
    "version": 3
   },
   "file_extension": ".py",
   "mimetype": "text/x-python",
   "name": "python",
   "nbconvert_exporter": "python",
   "pygments_lexer": "ipython3",
   "version": "3.9.13"
  }
 },
 "nbformat": 4,
 "nbformat_minor": 4
}
